{
 "cells": [
  {
   "cell_type": "markdown",
   "metadata": {},
   "source": [
    "## Work\n",
    "1. 試比較 save_best_only 與否的差異\n",
    "2. 請僅存入將 save_weights_only 設定為 True, 並嘗試 reset ipynb 並將模型與權重重新建回並預測 x_test"
   ]
  },
  {
   "cell_type": "code",
   "execution_count": 1,
   "metadata": {},
   "outputs": [
    {
     "name": "stderr",
     "output_type": "stream",
     "text": [
      "Using TensorFlow backend.\n"
     ]
    }
   ],
   "source": [
    "import os\n",
    "import keras\n",
    "\n",
    "# Disable GPU\n",
    "os.environ[\"CUDA_VISIBLE_DEVICES\"] = \"\""
   ]
  },
  {
   "cell_type": "code",
   "execution_count": 2,
   "metadata": {},
   "outputs": [],
   "source": [
    "train, test = keras.datasets.cifar10.load_data()"
   ]
  },
  {
   "cell_type": "code",
   "execution_count": 8,
   "metadata": {},
   "outputs": [],
   "source": [
    "## 資料前處理\n",
    "def preproc_x(x, flatten=True):\n",
    "    x = x / 255.\n",
    "    if flatten:\n",
    "        x = x.reshape((len(x), -1))\n",
    "    return x\n",
    "\n",
    "def preproc_y(y, num_classes=10):\n",
    "    if y.shape[-1] == 1:\n",
    "        y = keras.utils.to_categorical(y, num_classes)\n",
    "    return y"
   ]
  },
  {
   "cell_type": "code",
   "execution_count": 4,
   "metadata": {},
   "outputs": [],
   "source": [
    "x_train, y_train = train\n",
    "x_test, y_test = test\n",
    "\n",
    "# Preproc the inputs\n",
    "x_train = preproc_x(x_train)\n",
    "x_test = preproc_x(x_test)\n",
    "\n",
    "# Preprc the outputs\n",
    "y_train = preproc_y(y_train)\n",
    "y_test = preproc_y(y_test)"
   ]
  },
  {
   "cell_type": "code",
   "execution_count": 9,
   "metadata": {},
   "outputs": [],
   "source": [
    "from keras.layers import BatchNormalization\n",
    "\n",
    "\"\"\"\n",
    "建立神經網路，並加入 BN layer\n",
    "\"\"\"\n",
    "def build_mlp(input_shape, output_units=10, num_neurons=[512, 256, 128]):\n",
    "    input_layer = keras.layers.Input(input_shape)\n",
    "    \n",
    "    for i, n_units in enumerate(num_neurons):\n",
    "        if i == 0:\n",
    "            x = keras.layers.Dense(units=n_units, \n",
    "                                   activation=\"relu\", \n",
    "                                   name=\"hidden_layer\"+str(i+1))(input_layer)\n",
    "            x = BatchNormalization()(x)\n",
    "        else:\n",
    "            x = keras.layers.Dense(units=n_units, \n",
    "                                   activation=\"relu\", \n",
    "                                   name=\"hidden_layer\"+str(i+1))(x)\n",
    "            x = BatchNormalization()(x)\n",
    "    \n",
    "    out = keras.layers.Dense(units=output_units, activation=\"softmax\", name=\"output\")(x)\n",
    "    \n",
    "    model = keras.models.Model(inputs=[input_layer], outputs=[out])\n",
    "    return model"
   ]
  },
  {
   "cell_type": "code",
   "execution_count": 10,
   "metadata": {},
   "outputs": [],
   "source": [
    "\"\"\"Code Here\n",
    "設定超參數\n",
    "\"\"\"\n",
    "LEARNING_RATE = 1e-3\n",
    "EPOCHS = 50\n",
    "BATCH_SIZE = 1024\n",
    "MOMENTUM = 0.95"
   ]
  },
  {
   "cell_type": "code",
   "execution_count": 18,
   "metadata": {},
   "outputs": [
    {
     "name": "stdout",
     "output_type": "stream",
     "text": [
      "_________________________________________________________________\n",
      "Layer (type)                 Output Shape              Param #   \n",
      "=================================================================\n",
      "input_4 (InputLayer)         (None, 3072)              0         \n",
      "_________________________________________________________________\n",
      "hidden_layer1 (Dense)        (None, 512)               1573376   \n",
      "_________________________________________________________________\n",
      "batch_normalization_10 (Batc (None, 512)               2048      \n",
      "_________________________________________________________________\n",
      "hidden_layer2 (Dense)        (None, 256)               131328    \n",
      "_________________________________________________________________\n",
      "batch_normalization_11 (Batc (None, 256)               1024      \n",
      "_________________________________________________________________\n",
      "hidden_layer3 (Dense)        (None, 128)               32896     \n",
      "_________________________________________________________________\n",
      "batch_normalization_12 (Batc (None, 128)               512       \n",
      "_________________________________________________________________\n",
      "output (Dense)               (None, 10)                1290      \n",
      "=================================================================\n",
      "Total params: 1,742,474\n",
      "Trainable params: 1,740,682\n",
      "Non-trainable params: 1,792\n",
      "_________________________________________________________________\n",
      "Train on 50000 samples, validate on 10000 samples\n",
      "Epoch 1/50\n",
      "50000/50000 [==============================] - 8s 169us/step - loss: 2.2083 - acc: 0.2665 - val_loss: 2.1860 - val_acc: 0.3134\n",
      "Epoch 2/50\n",
      "50000/50000 [==============================] - 6s 122us/step - loss: 1.7333 - acc: 0.3951 - val_loss: 1.8032 - val_acc: 0.3777\n",
      "Epoch 3/50\n",
      "50000/50000 [==============================] - 6s 122us/step - loss: 1.6171 - acc: 0.4335 - val_loss: 1.6918 - val_acc: 0.4149\n",
      "Epoch 4/50\n",
      "50000/50000 [==============================] - 6s 121us/step - loss: 1.5448 - acc: 0.4590 - val_loss: 1.6259 - val_acc: 0.4271\n",
      "Epoch 5/50\n",
      "50000/50000 [==============================] - 6s 123us/step - loss: 1.4940 - acc: 0.4766 - val_loss: 1.5969 - val_acc: 0.4339\n",
      "Epoch 6/50\n",
      "50000/50000 [==============================] - 6s 123us/step - loss: 1.4483 - acc: 0.4934 - val_loss: 1.5694 - val_acc: 0.4464\n",
      "Epoch 7/50\n",
      "50000/50000 [==============================] - 6s 122us/step - loss: 1.4086 - acc: 0.5079 - val_loss: 1.5537 - val_acc: 0.4487\n",
      "Epoch 8/50\n",
      "50000/50000 [==============================] - 6s 122us/step - loss: 1.3734 - acc: 0.5210 - val_loss: 1.5463 - val_acc: 0.4561\n",
      "Epoch 9/50\n",
      "50000/50000 [==============================] - 6s 121us/step - loss: 1.3443 - acc: 0.5319 - val_loss: 1.5163 - val_acc: 0.4648\n",
      "Epoch 10/50\n",
      "50000/50000 [==============================] - 7s 136us/step - loss: 1.3141 - acc: 0.5421 - val_loss: 1.5060 - val_acc: 0.4691\n",
      "Epoch 11/50\n",
      "50000/50000 [==============================] - 7s 139us/step - loss: 1.2885 - acc: 0.5504 - val_loss: 1.4963 - val_acc: 0.4693\n",
      "Epoch 12/50\n",
      "50000/50000 [==============================] - 7s 135us/step - loss: 1.2617 - acc: 0.5631 - val_loss: 1.4899 - val_acc: 0.4713\n",
      "Epoch 13/50\n",
      "50000/50000 [==============================] - 7s 139us/step - loss: 1.2351 - acc: 0.5719 - val_loss: 1.4837 - val_acc: 0.4752\n",
      "Epoch 14/50\n",
      "50000/50000 [==============================] - 7s 138us/step - loss: 1.2093 - acc: 0.5811 - val_loss: 1.4736 - val_acc: 0.4809\n",
      "Epoch 15/50\n",
      "50000/50000 [==============================] - 6s 129us/step - loss: 1.1873 - acc: 0.5898 - val_loss: 1.4722 - val_acc: 0.4832\n",
      "Epoch 16/50\n",
      "50000/50000 [==============================] - 6s 129us/step - loss: 1.1638 - acc: 0.5989 - val_loss: 1.4662 - val_acc: 0.4848\n",
      "Epoch 17/50\n",
      "50000/50000 [==============================] - 8s 156us/step - loss: 1.1414 - acc: 0.6089 - val_loss: 1.4567 - val_acc: 0.4901\n",
      "Epoch 18/50\n",
      "50000/50000 [==============================] - 8s 151us/step - loss: 1.1195 - acc: 0.6164 - val_loss: 1.4554 - val_acc: 0.4857\n",
      "Epoch 19/50\n",
      "50000/50000 [==============================] - 9s 184us/step - loss: 1.0973 - acc: 0.6250 - val_loss: 1.4618 - val_acc: 0.4833\n",
      "Epoch 20/50\n",
      "50000/50000 [==============================] - 8s 166us/step - loss: 1.0770 - acc: 0.6331 - val_loss: 1.4603 - val_acc: 0.4871\n",
      "Epoch 21/50\n",
      "50000/50000 [==============================] - 8s 150us/step - loss: 1.0569 - acc: 0.6405 - val_loss: 1.4696 - val_acc: 0.4897\n",
      "Epoch 22/50\n",
      "50000/50000 [==============================] - 7s 134us/step - loss: 1.0363 - acc: 0.6484 - val_loss: 1.4581 - val_acc: 0.4948\n",
      "Epoch 23/50\n",
      "50000/50000 [==============================] - 6s 127us/step - loss: 1.0155 - acc: 0.6556 - val_loss: 1.4553 - val_acc: 0.4937\n",
      "Epoch 24/50\n",
      "50000/50000 [==============================] - 6s 123us/step - loss: 0.9954 - acc: 0.6636 - val_loss: 1.4569 - val_acc: 0.4921\n",
      "Epoch 25/50\n",
      "50000/50000 [==============================] - 6s 126us/step - loss: 0.9763 - acc: 0.6719 - val_loss: 1.4640 - val_acc: 0.4861\n",
      "Epoch 26/50\n",
      "50000/50000 [==============================] - 6s 127us/step - loss: 0.9548 - acc: 0.6785 - val_loss: 1.4675 - val_acc: 0.4923\n",
      "Epoch 27/50\n",
      "50000/50000 [==============================] - 6s 125us/step - loss: 0.9346 - acc: 0.6862 - val_loss: 1.4799 - val_acc: 0.4878\n",
      "Epoch 28/50\n",
      "50000/50000 [==============================] - 6s 124us/step - loss: 0.9182 - acc: 0.6924 - val_loss: 1.4855 - val_acc: 0.4924\n",
      "Epoch 29/50\n",
      "50000/50000 [==============================] - 6s 126us/step - loss: 0.8977 - acc: 0.7010 - val_loss: 1.4746 - val_acc: 0.4937\n",
      "Epoch 30/50\n",
      "50000/50000 [==============================] - 6s 125us/step - loss: 0.8748 - acc: 0.7104 - val_loss: 1.4975 - val_acc: 0.4886\n",
      "Epoch 31/50\n",
      "50000/50000 [==============================] - 6s 123us/step - loss: 0.8554 - acc: 0.7190 - val_loss: 1.4782 - val_acc: 0.4949\n",
      "Epoch 32/50\n",
      "50000/50000 [==============================] - 6s 125us/step - loss: 0.8374 - acc: 0.7253 - val_loss: 1.4989 - val_acc: 0.4870\n",
      "Epoch 33/50\n",
      "50000/50000 [==============================] - 6s 123us/step - loss: 0.8184 - acc: 0.7331 - val_loss: 1.4998 - val_acc: 0.4953\n",
      "Epoch 34/50\n",
      "50000/50000 [==============================] - 6s 126us/step - loss: 0.8010 - acc: 0.7403 - val_loss: 1.5172 - val_acc: 0.4969\n",
      "Epoch 35/50\n",
      "50000/50000 [==============================] - 6s 125us/step - loss: 0.7818 - acc: 0.7474 - val_loss: 1.5264 - val_acc: 0.4882\n",
      "Epoch 36/50\n",
      "50000/50000 [==============================] - 6s 125us/step - loss: 0.7627 - acc: 0.7544 - val_loss: 1.5188 - val_acc: 0.4939\n",
      "Epoch 37/50\n",
      "50000/50000 [==============================] - 6s 125us/step - loss: 0.7425 - acc: 0.7628 - val_loss: 1.5191 - val_acc: 0.4979\n",
      "Epoch 38/50\n",
      "50000/50000 [==============================] - 6s 125us/step - loss: 0.7268 - acc: 0.7689 - val_loss: 1.5491 - val_acc: 0.4903\n",
      "Epoch 39/50\n",
      "50000/50000 [==============================] - 6s 123us/step - loss: 0.7082 - acc: 0.7773 - val_loss: 1.5477 - val_acc: 0.4909\n",
      "Epoch 40/50\n",
      "50000/50000 [==============================] - 6s 124us/step - loss: 0.6886 - acc: 0.7827 - val_loss: 1.5585 - val_acc: 0.4873\n",
      "Epoch 41/50\n",
      "50000/50000 [==============================] - 6s 126us/step - loss: 0.6714 - acc: 0.7912 - val_loss: 1.5642 - val_acc: 0.4909\n",
      "Epoch 42/50\n",
      "50000/50000 [==============================] - 6s 126us/step - loss: 0.6547 - acc: 0.7971 - val_loss: 1.5772 - val_acc: 0.4919\n",
      "Epoch 43/50\n",
      "50000/50000 [==============================] - 6s 125us/step - loss: 0.6355 - acc: 0.8057 - val_loss: 1.5867 - val_acc: 0.4919\n",
      "Epoch 44/50\n",
      "50000/50000 [==============================] - 6s 125us/step - loss: 0.6188 - acc: 0.8126 - val_loss: 1.6163 - val_acc: 0.4846\n",
      "Epoch 45/50\n",
      "50000/50000 [==============================] - 6s 125us/step - loss: 0.6023 - acc: 0.8173 - val_loss: 1.6323 - val_acc: 0.4852\n",
      "Epoch 46/50\n",
      "50000/50000 [==============================] - 6s 126us/step - loss: 0.5845 - acc: 0.8233 - val_loss: 1.6131 - val_acc: 0.4916\n",
      "Epoch 47/50\n",
      "50000/50000 [==============================] - 6s 125us/step - loss: 0.5694 - acc: 0.8307 - val_loss: 1.6423 - val_acc: 0.4906\n",
      "Epoch 48/50\n",
      "50000/50000 [==============================] - 6s 125us/step - loss: 0.5510 - acc: 0.8386 - val_loss: 1.6466 - val_acc: 0.4869\n",
      "Epoch 49/50\n"
     ]
    },
    {
     "name": "stdout",
     "output_type": "stream",
     "text": [
      "50000/50000 [==============================] - 6s 124us/step - loss: 0.5358 - acc: 0.8439 - val_loss: 1.6712 - val_acc: 0.4853\n",
      "Epoch 50/50\n",
      "50000/50000 [==============================] - 6s 124us/step - loss: 0.5182 - acc: 0.8513 - val_loss: 1.6740 - val_acc: 0.4841\n"
     ]
    },
    {
     "ename": "KeyError",
     "evalue": "'accuracy'",
     "output_type": "error",
     "traceback": [
      "\u001b[1;31m---------------------------------------------------------------------------\u001b[0m",
      "\u001b[1;31mKeyError\u001b[0m                                  Traceback (most recent call last)",
      "\u001b[1;32m<ipython-input-18-60c1b5cd2db0>\u001b[0m in \u001b[0;36m<module>\u001b[1;34m\u001b[0m\n\u001b[0;32m     30\u001b[0m \u001b[0mtrain_loss\u001b[0m \u001b[1;33m=\u001b[0m \u001b[0mmodel\u001b[0m\u001b[1;33m.\u001b[0m\u001b[0mhistory\u001b[0m\u001b[1;33m.\u001b[0m\u001b[0mhistory\u001b[0m\u001b[1;33m[\u001b[0m\u001b[1;34m\"loss\"\u001b[0m\u001b[1;33m]\u001b[0m\u001b[1;33m\u001b[0m\u001b[1;33m\u001b[0m\u001b[0m\n\u001b[0;32m     31\u001b[0m \u001b[0mvalid_loss\u001b[0m \u001b[1;33m=\u001b[0m \u001b[0mmodel\u001b[0m\u001b[1;33m.\u001b[0m\u001b[0mhistory\u001b[0m\u001b[1;33m.\u001b[0m\u001b[0mhistory\u001b[0m\u001b[1;33m[\u001b[0m\u001b[1;34m\"val_loss\"\u001b[0m\u001b[1;33m]\u001b[0m\u001b[1;33m\u001b[0m\u001b[1;33m\u001b[0m\u001b[0m\n\u001b[1;32m---> 32\u001b[1;33m \u001b[0mtrain_acc\u001b[0m \u001b[1;33m=\u001b[0m \u001b[0mmodel\u001b[0m\u001b[1;33m.\u001b[0m\u001b[0mhistory\u001b[0m\u001b[1;33m.\u001b[0m\u001b[0mhistory\u001b[0m\u001b[1;33m[\u001b[0m\u001b[1;34m\"accuracy\"\u001b[0m\u001b[1;33m]\u001b[0m\u001b[1;33m\u001b[0m\u001b[1;33m\u001b[0m\u001b[0m\n\u001b[0m\u001b[0;32m     33\u001b[0m \u001b[0mvalid_acc\u001b[0m \u001b[1;33m=\u001b[0m \u001b[0mmodel\u001b[0m\u001b[1;33m.\u001b[0m\u001b[0mhistory\u001b[0m\u001b[1;33m.\u001b[0m\u001b[0mhistory\u001b[0m\u001b[1;33m[\u001b[0m\u001b[1;34m\"val_accuracy\"\u001b[0m\u001b[1;33m]\u001b[0m\u001b[1;33m\u001b[0m\u001b[1;33m\u001b[0m\u001b[0m\n\u001b[0;32m     34\u001b[0m \u001b[1;33m\u001b[0m\u001b[0m\n",
      "\u001b[1;31mKeyError\u001b[0m: 'accuracy'"
     ]
    }
   ],
   "source": [
    "# 載入 Callbacks\n",
    "\"\"\"Code Here\n",
    "設定 callbacks: model checkpoint\n",
    "\"\"\"\n",
    "from keras.callbacks import ModelCheckpoint\n",
    "\n",
    "model_ckpt = ModelCheckpoint(filepath=\"./tmp.h5\", \n",
    "                             monitor=\"val_loss\", \n",
    "                             save_best_only=True)\n",
    "\n",
    "\n",
    "results = {}\n",
    "\"\"\"Code Here\n",
    "撰寫你的訓練流程並將結果用 dictionary 紀錄\n",
    "\"\"\"\n",
    "model = build_mlp(input_shape=x_train.shape[1:])\n",
    "model.summary()\n",
    "optimizer = keras.optimizers.SGD(lr=LEARNING_RATE, nesterov=True, momentum=MOMENTUM)\n",
    "model.compile(loss=\"categorical_crossentropy\", metrics=[\"accuracy\"], optimizer=optimizer)\n",
    "\n",
    "model.fit(x_train, y_train, \n",
    "          epochs=EPOCHS, \n",
    "          batch_size=BATCH_SIZE, \n",
    "          validation_data=(x_test, y_test), \n",
    "          shuffle=True,\n",
    "          callbacks=[model_ckpt]\n",
    "         )\n",
    "\n",
    "# Collect results\n",
    "train_loss = model.history.history[\"loss\"]\n",
    "valid_loss = model.history.history[\"val_loss\"]\n",
    "train_acc = model.history.history[\"accuracy\"]\n",
    "valid_acc = model.history.history[\"val_accuracy\"]\n",
    "\n",
    "# Load back\n",
    "model = keras.models.load_model(\"./tmp.h5\")\n",
    "loss_loadback, acc_loadback = model.evaluate(x_test, y_test)\n",
    "\n",
    "results = {'train-loss': train_loss,\n",
    "           'valid-loss': valid_loss,\n",
    "           'train-acc': train_acc,\n",
    "           'valid-acc': valid_acc}"
   ]
  },
  {
   "cell_type": "code",
   "execution_count": 19,
   "metadata": {
    "scrolled": true
   },
   "outputs": [
    {
     "data": {
      "image/png": "[encoded data removed]",
      "text/plain": [
       "<Figure size 432x288 with 1 Axes>"
      ]
     },
     "metadata": {
      "needs_background": "light"
     },
     "output_type": "display_data"
    },
    {
     "ename": "NameError",
     "evalue": "name 'train_acc' is not defined",
     "output_type": "error",
     "traceback": [
      "\u001b[1;31m---------------------------------------------------------------------------\u001b[0m",
      "\u001b[1;31mNameError\u001b[0m                                 Traceback (most recent call last)",
      "\u001b[1;32m<ipython-input-19-044557eabd4f>\u001b[0m in \u001b[0;36m<module>\u001b[1;34m\u001b[0m\n\u001b[0;32m     11\u001b[0m \u001b[0mplt\u001b[0m\u001b[1;33m.\u001b[0m\u001b[0mshow\u001b[0m\u001b[1;33m(\u001b[0m\u001b[1;33m)\u001b[0m\u001b[1;33m\u001b[0m\u001b[1;33m\u001b[0m\u001b[0m\n\u001b[0;32m     12\u001b[0m \u001b[1;33m\u001b[0m\u001b[0m\n\u001b[1;32m---> 13\u001b[1;33m \u001b[0mplt\u001b[0m\u001b[1;33m.\u001b[0m\u001b[0mplot\u001b[0m\u001b[1;33m(\u001b[0m\u001b[0mrange\u001b[0m\u001b[1;33m(\u001b[0m\u001b[0mlen\u001b[0m\u001b[1;33m(\u001b[0m\u001b[0mtrain_acc\u001b[0m\u001b[1;33m)\u001b[0m\u001b[1;33m)\u001b[0m\u001b[1;33m,\u001b[0m \u001b[0mtrain_acc\u001b[0m\u001b[1;33m,\u001b[0m \u001b[0mlabel\u001b[0m\u001b[1;33m=\u001b[0m\u001b[1;34m\"train accuracy\"\u001b[0m\u001b[1;33m)\u001b[0m\u001b[1;33m\u001b[0m\u001b[1;33m\u001b[0m\u001b[0m\n\u001b[0m\u001b[0;32m     14\u001b[0m \u001b[0mplt\u001b[0m\u001b[1;33m.\u001b[0m\u001b[0mplot\u001b[0m\u001b[1;33m(\u001b[0m\u001b[0mrange\u001b[0m\u001b[1;33m(\u001b[0m\u001b[0mlen\u001b[0m\u001b[1;33m(\u001b[0m\u001b[0mvalid_acc\u001b[0m\u001b[1;33m)\u001b[0m\u001b[1;33m)\u001b[0m\u001b[1;33m,\u001b[0m \u001b[0mvalid_acc\u001b[0m\u001b[1;33m,\u001b[0m \u001b[0mlabel\u001b[0m\u001b[1;33m=\u001b[0m\u001b[1;34m\"valid accuracy\"\u001b[0m\u001b[1;33m)\u001b[0m\u001b[1;33m\u001b[0m\u001b[1;33m\u001b[0m\u001b[0m\n\u001b[0;32m     15\u001b[0m \u001b[0mplt\u001b[0m\u001b[1;33m.\u001b[0m\u001b[0mlegend\u001b[0m\u001b[1;33m(\u001b[0m\u001b[1;33m)\u001b[0m\u001b[1;33m\u001b[0m\u001b[1;33m\u001b[0m\u001b[0m\n",
      "\u001b[1;31mNameError\u001b[0m: name 'train_acc' is not defined"
     ]
    }
   ],
   "source": [
    "import matplotlib.pyplot as plt\n",
    "%matplotlib inline\n",
    "\"\"\"Code Here\n",
    "將結果繪出\n",
    "\"\"\"\n",
    "\n",
    "plt.plot(range(len(train_loss)), train_loss, label=\"train loss\")\n",
    "plt.plot(range(len(valid_loss)), valid_loss, label=\"valid loss\")\n",
    "plt.legend()\n",
    "plt.title(\"Loss\")\n",
    "plt.show()\n",
    "\n",
    "plt.plot(range(len(train_acc)), train_acc, label=\"train accuracy\")\n",
    "plt.plot(range(len(valid_acc)), valid_acc, label=\"valid accuracy\")\n",
    "plt.legend()\n",
    "plt.title(\"Accuracy\")\n",
    "plt.show()"
   ]
  },
  {
   "cell_type": "code",
   "execution_count": null,
   "metadata": {},
   "outputs": [],
   "source": []
  }
 ],
 "metadata": {
  "kernelspec": {
   "display_name": "Python 3",
   "language": "python",
   "name": "python3"
  },
  "language_info": {
   "codemirror_mode": {
    "name": "ipython",
    "version": 3
   },
   "file_extension": ".py",
   "mimetype": "text/x-python",
   "name": "python",
   "nbconvert_exporter": "python",
   "pygments_lexer": "ipython3",
   "version": "3.7.3"
  }
 },
 "nbformat": 4,
 "nbformat_minor": 2
}
