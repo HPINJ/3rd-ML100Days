{
 "cells": [
  {
   "cell_type": "markdown",
   "metadata": {},
   "source": [
    "## Work\n",
    "1. 請嘗試寫一個 callback 用來記錄各類別在訓練過程中，對驗證集的 True Positive 與 True Negative"
   ]
  },
  {
   "cell_type": "code",
   "execution_count": 1,
   "metadata": {},
   "outputs": [
    {
     "name": "stderr",
     "output_type": "stream",
     "text": [
      "Using TensorFlow backend.\n"
     ]
    }
   ],
   "source": [
    "import os\n",
    "import keras\n",
    "\n",
    "# Disable GPU\n",
    "os.environ[\"CUDA_VISIBLE_DEVICES\"] = \"\""
   ]
  },
  {
   "cell_type": "code",
   "execution_count": 2,
   "metadata": {},
   "outputs": [],
   "source": [
    "train, test = keras.datasets.cifar10.load_data()"
   ]
  },
  {
   "cell_type": "code",
   "execution_count": 3,
   "metadata": {},
   "outputs": [],
   "source": [
    "## 資料前處理\n",
    "def preproc_x(x, flatten=True):\n",
    "    x = x / 255.\n",
    "    if flatten:\n",
    "        x = x.reshape((len(x), -1))\n",
    "    return x\n",
    "\n",
    "def preproc_y(y, num_classes=10):\n",
    "    if y.shape[-1] == 1:\n",
    "        y = keras.utils.to_categorical(y, num_classes)\n",
    "    return y    "
   ]
  },
  {
   "cell_type": "code",
   "execution_count": 4,
   "metadata": {},
   "outputs": [],
   "source": [
    "x_train, y_train = train\n",
    "x_test, y_test = test\n",
    "\n",
    "# Preproc the inputs\n",
    "x_train = preproc_x(x_train)\n",
    "x_test = preproc_x(x_test)\n",
    "\n",
    "# Preprc the outputs\n",
    "y_train = preproc_y(y_train)\n",
    "y_test = preproc_y(y_test)"
   ]
  },
  {
   "cell_type": "code",
   "execution_count": 5,
   "metadata": {},
   "outputs": [],
   "source": [
    "from keras.layers import BatchNormalization\n",
    "\n",
    "def build_mlp(input_shape, output_units=10, num_neurons=[256, 256, 256]):\n",
    "    \"\"\"Code Here\n",
    "    建立你的神經網路\n",
    "    \"\"\"\n",
    "    input_layer = keras.layers.Input(input_shape)\n",
    "    \n",
    "    for i, n_units in enumerate(num_neurons):\n",
    "        if i == 0:\n",
    "            x = keras.layers.Dense(units=n_units, \n",
    "                                   activation=\"relu\", \n",
    "                                   name=\"hidden_layer\"+str(i+1))(input_layer)\n",
    "            x = BatchNormalization()(x)\n",
    "        else:\n",
    "            x = keras.layers.Dense(units=n_units, \n",
    "                                   activation=\"relu\", \n",
    "                                   name=\"hidden_layer\"+str(i+1))(x)\n",
    "            x = BatchNormalization()(x)\n",
    "    \n",
    "    out = keras.layers.Dense(units=output_units, activation=\"softmax\", name=\"output\")(x)\n",
    "    \n",
    "    model = keras.models.Model(inputs=[input_layer], outputs=[out])\n",
    "    \n",
    "    return model"
   ]
  },
  {
   "cell_type": "code",
   "execution_count": 6,
   "metadata": {},
   "outputs": [],
   "source": [
    "## 超參數設定\n",
    "LEARNING_RATE = 1e-3\n",
    "EPOCHS = 25\n",
    "BATCH_SIZE = 1024\n",
    "MOMENTUM = 0.95"
   ]
  },
  {
   "cell_type": "code",
   "execution_count": 7,
   "metadata": {},
   "outputs": [],
   "source": [
    "# 載入 Callbacks\n",
    "from keras.callbacks import Callback\n",
    "from sklearn.metrics import confusion_matrix\n",
    "\n",
    "# Record_fp_tp\n",
    "class Record_tp_tn(Callback):\n",
    "    \"\"\"Code Here\n",
    "    撰寫一個紀錄 true positive 與 true negative 數量的 callbacks    \n",
    "    \"\"\"\n",
    "    \n",
    "    def on_train_begin(self, epoch, logs = {}):\n",
    "        logs = logs or {}\n",
    "        record_items = [\"val_tp\", \"val_tn\"]\n",
    "        for i in record_items:\n",
    "            if i not in self.params['metrics']:\n",
    "                self.params['metrics'].append(i)\n",
    "    \n",
    "    def on_epoch_end(self, epoch, logs = {}, thres=0.5):\n",
    "        logs = logs or {}\n",
    "        y_true = self.validation_data[1].ravel()\n",
    "        y_pred = self.model.predict(self.validation_data[0]).ravel()\n",
    "        y_pred = (y_pred >= thres) * 1\n",
    "        print(confusion_matrix(y_true,y_pred).ravel())\n",
    "        (tn, fp, fn, tp) = confusion_matrix(y_true,y_pred).ravel()\n",
    "        logs[\"val_tp\"] = tp\n",
    "        logs[\"val_tn\"] = tn\n",
    "\n",
    "rec_tptn = Record_tp_tn()"
   ]
  },
  {
   "cell_type": "code",
   "execution_count": 8,
   "metadata": {
    "scrolled": true
   },
   "outputs": [
    {
     "name": "stdout",
     "output_type": "stream",
     "text": [
      "WARNING:tensorflow:From C:\\Users\\andy\\.conda\\envs\\tf\\lib\\site-packages\\tensorflow\\python\\framework\\op_def_library.py:263: colocate_with (from tensorflow.python.framework.ops) is deprecated and will be removed in a future version.\n",
      "Instructions for updating:\n",
      "Colocations handled automatically by placer.\n",
      "_________________________________________________________________\n",
      "Layer (type)                 Output Shape              Param #   \n",
      "=================================================================\n",
      "input_1 (InputLayer)         (None, 3072)              0         \n",
      "_________________________________________________________________\n",
      "hidden_layer1 (Dense)        (None, 256)               786688    \n",
      "_________________________________________________________________\n",
      "batch_normalization_1 (Batch (None, 256)               1024      \n",
      "_________________________________________________________________\n",
      "hidden_layer2 (Dense)        (None, 256)               65792     \n",
      "_________________________________________________________________\n",
      "batch_normalization_2 (Batch (None, 256)               1024      \n",
      "_________________________________________________________________\n",
      "hidden_layer3 (Dense)        (None, 256)               65792     \n",
      "_________________________________________________________________\n",
      "batch_normalization_3 (Batch (None, 256)               1024      \n",
      "_________________________________________________________________\n",
      "output (Dense)               (None, 10)                2570      \n",
      "=================================================================\n",
      "Total params: 923,914\n",
      "Trainable params: 922,378\n",
      "Non-trainable params: 1,536\n",
      "_________________________________________________________________\n",
      "WARNING:tensorflow:From C:\\Users\\andy\\.conda\\envs\\tf\\lib\\site-packages\\tensorflow\\python\\ops\\math_ops.py:3066: to_int32 (from tensorflow.python.ops.math_ops) is deprecated and will be removed in a future version.\n",
      "Instructions for updating:\n",
      "Use tf.cast instead.\n",
      "Train on 50000 samples, validate on 10000 samples\n",
      "Epoch 1/25\n",
      "50000/50000 [==============================] - 7s 135us/step - loss: 2.2226 - acc: 0.2672 - val_loss: 2.1499 - val_acc: 0.3091\n",
      "[87609  2391  8350  1650]\n",
      "Epoch 2/25\n",
      "50000/50000 [==============================] - 5s 103us/step - loss: 1.7696 - acc: 0.3822 - val_loss: 1.8358 - val_acc: 0.3715\n",
      "[88033  1967  7925  2075]\n",
      "Epoch 3/25\n",
      "50000/50000 [==============================] - 5s 96us/step - loss: 1.6359 - acc: 0.4273 - val_loss: 1.7087 - val_acc: 0.4056\n",
      "[88386  1614  7754  2246]\n",
      "Epoch 4/25\n",
      "50000/50000 [==============================] - 5s 94us/step - loss: 1.5578 - acc: 0.4545 - val_loss: 1.6459 - val_acc: 0.4229\n",
      "[88470  1530  7676  2324]\n",
      "Epoch 5/25\n",
      "50000/50000 [==============================] - 5s 94us/step - loss: 1.5022 - acc: 0.4743 - val_loss: 1.5874 - val_acc: 0.4404\n",
      "[88613  1387  7583  2417]\n",
      "Epoch 6/25\n",
      "50000/50000 [==============================] - 5s 94us/step - loss: 1.4570 - acc: 0.4893 - val_loss: 1.5768 - val_acc: 0.4416\n",
      "[88580  1420  7623  2377]\n",
      "Epoch 7/25\n",
      "50000/50000 [==============================] - 5s 95us/step - loss: 1.4201 - acc: 0.5019 - val_loss: 1.5605 - val_acc: 0.4471\n",
      "[88507  1493  7437  2563]\n",
      "Epoch 8/25\n",
      "50000/50000 [==============================] - 5s 95us/step - loss: 1.3870 - acc: 0.5155 - val_loss: 1.5374 - val_acc: 0.4606\n",
      "[88480  1520  7338  2662]\n",
      "Epoch 9/25\n",
      "50000/50000 [==============================] - 5s 95us/step - loss: 1.3589 - acc: 0.5249 - val_loss: 1.5270 - val_acc: 0.4595\n",
      "[88492  1508  7290  2710]\n",
      "Epoch 10/25\n",
      "50000/50000 [==============================] - 5s 95us/step - loss: 1.3305 - acc: 0.5335 - val_loss: 1.5085 - val_acc: 0.4695\n",
      "[88448  1552  7190  2810]\n",
      "Epoch 11/25\n",
      "50000/50000 [==============================] - 5s 95us/step - loss: 1.3055 - acc: 0.5425 - val_loss: 1.5057 - val_acc: 0.4716\n",
      "[88363  1637  7124  2876]\n",
      "Epoch 12/25\n",
      "50000/50000 [==============================] - 5s 94us/step - loss: 1.2809 - acc: 0.5541 - val_loss: 1.4976 - val_acc: 0.4740\n",
      "[88443  1557  7136  2864]\n",
      "Epoch 13/25\n",
      "50000/50000 [==============================] - 5s 95us/step - loss: 1.2585 - acc: 0.5640 - val_loss: 1.4878 - val_acc: 0.4751\n",
      "[88410  1590  7059  2941]\n",
      "Epoch 14/25\n",
      "50000/50000 [==============================] - 5s 95us/step - loss: 1.2367 - acc: 0.5701 - val_loss: 1.4792 - val_acc: 0.4837\n",
      "[88381  1619  6978  3022]\n",
      "Epoch 15/25\n",
      "50000/50000 [==============================] - 5s 95us/step - loss: 1.2167 - acc: 0.5789 - val_loss: 1.4847 - val_acc: 0.4853\n",
      "[88367  1633  6935  3065]\n",
      "Epoch 16/25\n",
      "50000/50000 [==============================] - 5s 96us/step - loss: 1.1938 - acc: 0.5865 - val_loss: 1.4665 - val_acc: 0.4891\n",
      "[88260  1740  6778  3222]\n",
      "Epoch 17/25\n",
      "50000/50000 [==============================] - 5s 95us/step - loss: 1.1761 - acc: 0.5939 - val_loss: 1.4656 - val_acc: 0.4879\n",
      "[88165  1835  6714  3286]\n",
      "Epoch 18/25\n",
      "50000/50000 [==============================] - 5s 95us/step - loss: 1.1571 - acc: 0.6019 - val_loss: 1.4525 - val_acc: 0.4913\n",
      "[88231  1769  6760  3240]\n",
      "Epoch 19/25\n",
      "50000/50000 [==============================] - 5s 96us/step - loss: 1.1359 - acc: 0.6095 - val_loss: 1.4522 - val_acc: 0.4951\n",
      "[88196  1804  6716  3284]\n",
      "Epoch 20/25\n",
      "50000/50000 [==============================] - 5s 96us/step - loss: 1.1179 - acc: 0.6158 - val_loss: 1.4612 - val_acc: 0.4920\n",
      "[88168  1832  6627  3373]\n",
      "Epoch 21/25\n",
      "50000/50000 [==============================] - 5s 96us/step - loss: 1.1009 - acc: 0.6221 - val_loss: 1.4548 - val_acc: 0.4931\n",
      "[88091  1909  6594  3406]\n",
      "Epoch 22/25\n",
      "50000/50000 [==============================] - 5s 94us/step - loss: 1.0842 - acc: 0.6288 - val_loss: 1.4483 - val_acc: 0.4968\n",
      "[88058  1942  6516  3484]\n",
      "Epoch 23/25\n",
      "50000/50000 [==============================] - 5s 96us/step - loss: 1.0665 - acc: 0.6354 - val_loss: 1.4648 - val_acc: 0.4874\n",
      "[88119  1881  6663  3337]\n",
      "Epoch 24/25\n",
      "50000/50000 [==============================] - 5s 95us/step - loss: 1.0487 - acc: 0.6422 - val_loss: 1.4502 - val_acc: 0.4972\n",
      "[88050  1950  6500  3500]\n",
      "Epoch 25/25\n",
      "50000/50000 [==============================] - 5s 95us/step - loss: 1.0338 - acc: 0.6484 - val_loss: 1.4588 - val_acc: 0.4957 0.648\n",
      "[87857  2143  6427  3573]\n"
     ]
    }
   ],
   "source": [
    "model = build_mlp(input_shape=x_train.shape[1:])\n",
    "model.summary()\n",
    "optimizer = keras.optimizers.SGD(lr=LEARNING_RATE, nesterov=True, momentum=MOMENTUM)\n",
    "model.compile(loss=\"categorical_crossentropy\", metrics=[\"accuracy\"], optimizer=optimizer)\n",
    "\n",
    "\"\"\"Code Here\n",
    "將 callbacks 放入模型訓練流程中\n",
    "\"\"\"\n",
    "model.fit(x_train, y_train,\n",
    "         epochs=EPOCHS,\n",
    "         batch_size=BATCH_SIZE,\n",
    "         validation_data=(x_test,y_test),\n",
    "         shuffle=True,\n",
    "         callbacks=[rec_tptn]\n",
    "         )\n",
    "\n",
    "# Collect results\n",
    "train_loss = model.history.history[\"loss\"]\n",
    "valid_loss = model.history.history[\"val_loss\"]\n",
    "train_acc = model.history.history[\"acc\"]\n",
    "valid_acc = model.history.history[\"val_acc\"]\n",
    "\n",
    "\"\"\"Code Here\n",
    "將 tp/tn 從訓練完的模型中取出\n",
    "\"\"\"\n",
    "valid_tp = model.history.history['val_tp']\n",
    "valid_tn = model.history.history['val_tn']"
   ]
  },
  {
   "cell_type": "code",
   "execution_count": 9,
   "metadata": {},
   "outputs": [
    {
     "data": {
      "image/png": "[encoded data removed]",
      "text/plain": [
       "<Figure size 432x288 with 1 Axes>"
      ]
     },
     "metadata": {
      "needs_background": "light"
     },
     "output_type": "display_data"
    },
    {
     "data": {
      "image/png": "[encoded data removed]",
      "text/plain": [
       "<Figure size 432x288 with 1 Axes>"
      ]
     },
     "metadata": {
      "needs_background": "light"
     },
     "output_type": "display_data"
    },
    {
     "data": {
      "image/png": "[encoded data removed]",
      "text/plain": [
       "<Figure size 432x288 with 1 Axes>"
      ]
     },
     "metadata": {
      "needs_background": "light"
     },
     "output_type": "display_data"
    }
   ],
   "source": [
    "import matplotlib.pyplot as plt\n",
    "%matplotlib inline\n",
    "\n",
    "plt.plot(range(len(train_loss)), train_loss, label=\"train loss\")\n",
    "plt.plot(range(len(valid_loss)), valid_loss, label=\"valid loss\")\n",
    "plt.legend()\n",
    "plt.title(\"Loss\")\n",
    "plt.show()\n",
    "\n",
    "plt.plot(range(len(train_acc)), train_acc, label=\"train accuracy\")\n",
    "plt.plot(range(len(valid_acc)), valid_acc, label=\"valid accuracy\")\n",
    "plt.legend()\n",
    "plt.title(\"Accuracy\")\n",
    "plt.show()\n",
    "\n",
    "plt.plot(range(len(valid_tp)), valid_tp, label=\"valid tp\", color=\"navy\")\n",
    "plt.plot(range(len(valid_tn)), valid_tn, label=\"valid tn\", color=\"red\")\n",
    "plt.legend()\n",
    "plt.title(\"True positives and True Negatives\")\n",
    "plt.show()\n"
   ]
  },
  {
   "cell_type": "code",
   "execution_count": null,
   "metadata": {},
   "outputs": [],
   "source": []
  }
 ],
 "metadata": {
  "kernelspec": {
   "display_name": "Python 3",
   "language": "python",
   "name": "python3"
  },
  "language_info": {
   "codemirror_mode": {
    "name": "ipython",
    "version": 3
   },
   "file_extension": ".py",
   "mimetype": "text/x-python",
   "name": "python",
   "nbconvert_exporter": "python",
   "pygments_lexer": "ipython3",
   "version": "3.7.3"
  }
 },
 "nbformat": 4,
 "nbformat_minor": 2
}
